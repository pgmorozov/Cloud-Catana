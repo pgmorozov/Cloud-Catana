{
 "cells": [
  {
   "cell_type": "markdown",
   "id": "7f2f8f51",
   "metadata": {},
   "source": [
    "# addOwnerToAdApp"
   ]
  },
  {
   "cell_type": "markdown",
   "id": "ff7f424a",
   "metadata": {},
   "source": [
    "## Metadata"
   ]
  },
  {
   "cell_type": "markdown",
   "id": "cb62a8fb",
   "metadata": {},
   "source": [
    "\n",
    "|                   |    |\n",
    "|:------------------|:---|\n",
    "| platform          | Azure |\n",
    "| contributors      | ['Roberto Rodriguez @Cyb3rWard0g', 'Open Threat Research @OTR_Community'] |\n",
    "| creation date     | 2021-08-05 |\n",
    "| modification date | 2021-08-05 |"
   ]
  },
  {
   "cell_type": "markdown",
   "id": "e7b4f30a",
   "metadata": {},
   "source": [
    "## Description\n",
    "A threat actor might want to add an owner to an Azure AD application.\n"
   ]
  },
  {
   "cell_type": "markdown",
   "id": "8e343a38",
   "metadata": {},
   "source": [
    "## Run Simulation"
   ]
  },
  {
   "cell_type": "markdown",
   "id": "d309753f",
   "metadata": {},
   "source": [
    "### Authenticate Public Client"
   ]
  },
  {
   "cell_type": "code",
   "execution_count": null,
   "id": "8991577b",
   "metadata": {},
   "outputs": [],
   "source": [
    "from msal import PublicClientApplication\n",
    "import requests\n",
    "app = PublicClientApplication(\n",
    "    \"05e7c31e-9970-4594-8857-06fcdb5993b9\",\n",
    "    authority=\"https://login.microsoftonline.com/4b2462a4-bbee-495a-a0e1-f23ae524cc9c\"\n",
    ")\n",
    "result = app.acquire_token_interactive(scopes=['https://socckplay00000000000.azurewebsites.net/user_impersonation'])\n",
    "bearer_token = result['access_token']"
   ]
  },
  {
   "cell_type": "markdown",
   "id": "e82532f1",
   "metadata": {},
   "source": [
    "### Set Azure Function Orchestrator"
   ]
  },
  {
   "cell_type": "code",
   "execution_count": null,
   "id": "42499786",
   "metadata": {},
   "outputs": [],
   "source": [
    "endpoint = \"https://socckplay00000000000.azurewebsites.net/api/orchestrators/Orchestrator\""
   ]
  },
  {
   "cell_type": "markdown",
   "id": "fb8e76d0",
   "metadata": {},
   "source": [
    "### Prepare HTTP Body"
   ]
  },
  {
   "cell_type": "code",
   "execution_count": null,
   "id": "9c67b3d2",
   "metadata": {},
   "outputs": [],
   "source": [
    "data = {'Tactic': 'persistence', 'Procedure': 'addOwnerToAdApp', 'parameters': {'applicationId': 'ENTER-VALUE', 'directoryObjectId': 'ENTER-VALUE', 'accessToken': 'ENTER-VALUE'}}"
   ]
  },
  {
   "cell_type": "markdown",
   "id": "02194f50",
   "metadata": {},
   "source": [
    "### Send HTTP Request"
   ]
  },
  {
   "cell_type": "code",
   "execution_count": null,
   "id": "24125017",
   "metadata": {},
   "outputs": [],
   "source": [
    "http_headers = {'Authorization': 'Bearer ' + bearer_token, 'Accept': 'application/json','Content-Type': 'application/json'}\n",
    "results = requests.get(endpoint, json=data, headers=http_headers, stream=False).json()\n",
    "results"
   ]
  }
 ],
 "metadata": {},
 "nbformat": 4,
 "nbformat_minor": 5
}
