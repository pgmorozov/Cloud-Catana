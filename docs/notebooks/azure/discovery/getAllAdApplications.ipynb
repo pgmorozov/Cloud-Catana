{
 "cells": [
  {
   "cell_type": "markdown",
   "id": "33ecab8a",
   "metadata": {},
   "source": [
    "# getAllAdApplications"
   ]
  },
  {
   "cell_type": "markdown",
   "id": "bc974629",
   "metadata": {},
   "source": [
    "## Metadata"
   ]
  },
  {
   "cell_type": "markdown",
   "id": "25613b90",
   "metadata": {},
   "source": [
    "\n",
    "|                   |    |\n",
    "|:------------------|:---|\n",
    "| platform          | Azure |\n",
    "| contributors      | ['Roberto Rodriguez @Cyb3rWard0g', 'Open Threat Research @OTR_Community'] |\n",
    "| creation date     | 2021-08-05 |\n",
    "| modification date | 2021-08-05 |"
   ]
  },
  {
   "cell_type": "markdown",
   "id": "2f559790",
   "metadata": {},
   "source": [
    "## Description\n",
    "A threat actor might want to list all Azure AD Applications\n"
   ]
  },
  {
   "cell_type": "markdown",
   "id": "0ed7de54",
   "metadata": {},
   "source": [
    "## Run Simulation"
   ]
  },
  {
   "cell_type": "markdown",
   "id": "75b8b161",
   "metadata": {},
   "source": [
    "### Authenticate Public Client"
   ]
  },
  {
   "cell_type": "code",
   "execution_count": null,
   "id": "92ce341f",
   "metadata": {},
   "outputs": [],
   "source": [
    "from msal import PublicClientApplication\n",
    "import requests\n",
    "app = PublicClientApplication(\n",
    "    \"05e7c31e-9970-4594-8857-06fcdb5993b9\",\n",
    "    authority=\"https://login.microsoftonline.com/4b2462a4-bbee-495a-a0e1-f23ae524cc9c\"\n",
    ")\n",
    "result = app.acquire_token_interactive(scopes=['https://socckplay00000000000.azurewebsites.net/user_impersonation'])\n",
    "bearer_token = result['access_token']"
   ]
  },
  {
   "cell_type": "markdown",
   "id": "1e76b0f3",
   "metadata": {},
   "source": [
    "### Set Azure Function Orchestrator"
   ]
  },
  {
   "cell_type": "code",
   "execution_count": null,
   "id": "fa3aa0d8",
   "metadata": {},
   "outputs": [],
   "source": [
    "endpoint = \"https://socckplay00000000000.azurewebsites.net/api/orchestrators/Orchestrator\""
   ]
  },
  {
   "cell_type": "markdown",
   "id": "d1cc2f60",
   "metadata": {},
   "source": [
    "### Prepare HTTP Body"
   ]
  },
  {
   "cell_type": "code",
   "execution_count": null,
   "id": "77cdc96a",
   "metadata": {},
   "outputs": [],
   "source": [
    "data = {'Tactic': 'discovery', 'Procedure': 'getAllAdApplications', 'parameters': {'accessToken': 'ENTER-VALUE'}}"
   ]
  },
  {
   "cell_type": "markdown",
   "id": "0496b334",
   "metadata": {},
   "source": [
    "### Send HTTP Request"
   ]
  },
  {
   "cell_type": "code",
   "execution_count": null,
   "id": "64785929",
   "metadata": {},
   "outputs": [],
   "source": [
    "http_headers = {'Authorization': 'Bearer ' + bearer_token, 'Accept': 'application/json','Content-Type': 'application/json'}\n",
    "results = requests.get(endpoint, json=data, headers=http_headers, stream=False).json()\n",
    "results"
   ]
  }
 ],
 "metadata": {},
 "nbformat": 4,
 "nbformat_minor": 5
}
