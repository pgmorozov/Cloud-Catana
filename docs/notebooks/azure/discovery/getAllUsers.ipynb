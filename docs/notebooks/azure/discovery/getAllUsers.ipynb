{
 "cells": [
  {
   "cell_type": "markdown",
   "id": "bb829733",
   "metadata": {},
   "source": [
    "# getAllUsers"
   ]
  },
  {
   "cell_type": "markdown",
   "id": "8d202550",
   "metadata": {},
   "source": [
    "## Metadata"
   ]
  },
  {
   "cell_type": "markdown",
   "id": "7cf15e66",
   "metadata": {},
   "source": [
    "\n",
    "|                   |    |\n",
    "|:------------------|:---|\n",
    "| platform          | Azure |\n",
    "| contributors      | ['Roberto Rodriguez @Cyb3rWard0g', 'Open Threat Research @OTR_Community'] |\n",
    "| creation date     | 2021-08-05 |\n",
    "| modification date | 2021-08-05 |"
   ]
  },
  {
   "cell_type": "markdown",
   "id": "a00d61db",
   "metadata": {},
   "source": [
    "## Description\n",
    "A threat actor might want to list all users in Azure AD\n"
   ]
  },
  {
   "cell_type": "markdown",
   "id": "553ae69e",
   "metadata": {},
   "source": [
    "## Run Simulation"
   ]
  },
  {
   "cell_type": "markdown",
   "id": "fffaab06",
   "metadata": {},
   "source": [
    "### Authenticate Public Client"
   ]
  },
  {
   "cell_type": "code",
   "execution_count": null,
   "id": "6f70e4a5",
   "metadata": {},
   "outputs": [],
   "source": [
    "from msal import PublicClientApplication\n",
    "import requests\n",
    "app = PublicClientApplication(\n",
    "    \"05e7c31e-9970-4594-8857-06fcdb5993b9\",\n",
    "    authority=\"https://login.microsoftonline.com/4b2462a4-bbee-495a-a0e1-f23ae524cc9c\"\n",
    ")\n",
    "result = app.acquire_token_interactive(scopes=['https://socckplay00000000000.azurewebsites.net/user_impersonation'])\n",
    "bearer_token = result['access_token']"
   ]
  },
  {
   "cell_type": "markdown",
   "id": "bb4229f9",
   "metadata": {},
   "source": [
    "### Set Azure Function Orchestrator"
   ]
  },
  {
   "cell_type": "code",
   "execution_count": null,
   "id": "01fd1752",
   "metadata": {},
   "outputs": [],
   "source": [
    "endpoint = \"https://socckplay00000000000.azurewebsites.net/api/orchestrators/Orchestrator\""
   ]
  },
  {
   "cell_type": "markdown",
   "id": "7bcf3c12",
   "metadata": {},
   "source": [
    "### Prepare HTTP Body"
   ]
  },
  {
   "cell_type": "code",
   "execution_count": null,
   "id": "1a594318",
   "metadata": {},
   "outputs": [],
   "source": [
    "data = {'Tactic': 'discovery', 'Procedure': 'getAllUsers', 'parameters': {'accessToken': 'ENTER-VALUE'}}"
   ]
  },
  {
   "cell_type": "markdown",
   "id": "60e29432",
   "metadata": {},
   "source": [
    "### Send HTTP Request"
   ]
  },
  {
   "cell_type": "code",
   "execution_count": null,
   "id": "aab2b1ce",
   "metadata": {},
   "outputs": [],
   "source": [
    "http_headers = {'Authorization': 'Bearer ' + bearer_token, 'Accept': 'application/json','Content-Type': 'application/json'}\n",
    "results = requests.get(endpoint, json=data, headers=http_headers, stream=False).json()\n",
    "results"
   ]
  }
 ],
 "metadata": {},
 "nbformat": 4,
 "nbformat_minor": 5
}
