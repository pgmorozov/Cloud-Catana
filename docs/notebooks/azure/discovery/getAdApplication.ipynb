{
 "cells": [
  {
   "cell_type": "markdown",
   "id": "e6c1d74f",
   "metadata": {},
   "source": [
    "# getAdApplication"
   ]
  },
  {
   "cell_type": "markdown",
   "id": "98ea5d8f",
   "metadata": {},
   "source": [
    "## Metadata"
   ]
  },
  {
   "cell_type": "markdown",
   "id": "b5444543",
   "metadata": {},
   "source": [
    "\n",
    "|                   |    |\n",
    "|:------------------|:---|\n",
    "| platform          | Azure |\n",
    "| contributors      | ['Roberto Rodriguez @Cyb3rWard0g', 'Open Threat Research @OTR_Community'] |\n",
    "| creation date     | 2021-08-05 |\n",
    "| modification date | 2021-08-05 |"
   ]
  },
  {
   "cell_type": "markdown",
   "id": "e15a4937",
   "metadata": {},
   "source": [
    "## Description\n",
    "A threat actor might want to get metadata from a specific Azure AD Application.\n"
   ]
  },
  {
   "cell_type": "markdown",
   "id": "8e48c388",
   "metadata": {},
   "source": [
    "## Run Simulation"
   ]
  },
  {
   "cell_type": "markdown",
   "id": "2f983657",
   "metadata": {},
   "source": [
    "### Authenticate Public Client"
   ]
  },
  {
   "cell_type": "code",
   "execution_count": null,
   "id": "c54767c0",
   "metadata": {},
   "outputs": [],
   "source": [
    "from msal import PublicClientApplication\n",
    "import requests\n",
    "app = PublicClientApplication(\n",
    "    \"05e7c31e-9970-4594-8857-06fcdb5993b9\",\n",
    "    authority=\"https://login.microsoftonline.com/4b2462a4-bbee-495a-a0e1-f23ae524cc9c\"\n",
    ")\n",
    "result = app.acquire_token_interactive(scopes=['https://socckplay00000000000.azurewebsites.net/user_impersonation'])\n",
    "bearer_token = result['access_token']"
   ]
  },
  {
   "cell_type": "markdown",
   "id": "21a22666",
   "metadata": {},
   "source": [
    "### Set Azure Function Orchestrator"
   ]
  },
  {
   "cell_type": "code",
   "execution_count": null,
   "id": "d7fadbe3",
   "metadata": {},
   "outputs": [],
   "source": [
    "endpoint = \"https://socckplay00000000000.azurewebsites.net/api/orchestrators/Orchestrator\""
   ]
  },
  {
   "cell_type": "markdown",
   "id": "bad7ec6f",
   "metadata": {},
   "source": [
    "### Prepare HTTP Body"
   ]
  },
  {
   "cell_type": "code",
   "execution_count": null,
   "id": "b3927508",
   "metadata": {},
   "outputs": [],
   "source": [
    "data = {'Tactic': 'discovery', 'Procedure': 'getAdApplication', 'parameters': {'appObjectId': 'ENTER-VALUE', 'accessToken': 'ENTER-VALUE'}}"
   ]
  },
  {
   "cell_type": "markdown",
   "id": "06c17cd5",
   "metadata": {},
   "source": [
    "### Send HTTP Request"
   ]
  },
  {
   "cell_type": "code",
   "execution_count": null,
   "id": "1ed19897",
   "metadata": {},
   "outputs": [],
   "source": [
    "http_headers = {'Authorization': 'Bearer ' + bearer_token, 'Accept': 'application/json','Content-Type': 'application/json'}\n",
    "results = requests.get(endpoint, json=data, headers=http_headers, stream=False).json()\n",
    "results"
   ]
  }
 ],
 "metadata": {},
 "nbformat": 4,
 "nbformat_minor": 5
}
