{
 "cells": [
  {
   "cell_type": "markdown",
   "id": "3da92648",
   "metadata": {},
   "source": [
    "# updateAdAppPassword"
   ]
  },
  {
   "cell_type": "markdown",
   "id": "b18c44d5",
   "metadata": {},
   "source": [
    "## Metadata"
   ]
  },
  {
   "cell_type": "markdown",
   "id": "dd821bcf",
   "metadata": {},
   "source": [
    "\n",
    "|                   |    |\n",
    "|:------------------|:---|\n",
    "| platform          | Azure |\n",
    "| contributors      | ['Roberto Rodriguez @Cyb3rWard0g', 'Open Threat Research @OTR_Community'] |\n",
    "| creation date     | 2021-08-05 |\n",
    "| modification date | 2021-08-05 |"
   ]
  },
  {
   "cell_type": "markdown",
   "id": "1bf056b1",
   "metadata": {},
   "source": [
    "## Description\n",
    "A threat actor might want to update or add a password to an Azure AD application for persistence purposes.\n"
   ]
  },
  {
   "cell_type": "markdown",
   "id": "84afdd17",
   "metadata": {},
   "source": [
    "## Run Simulation"
   ]
  },
  {
   "cell_type": "markdown",
   "id": "b5264cad",
   "metadata": {},
   "source": [
    "### Authenticate Public Client"
   ]
  },
  {
   "cell_type": "code",
   "execution_count": null,
   "id": "3cdc99ba",
   "metadata": {},
   "outputs": [],
   "source": [
    "from msal import PublicClientApplication\n",
    "import requests\n",
    "app = PublicClientApplication(\n",
    "    \"KATANA_CLIENT_APP_ID\",\n",
    "    authority=\"https://login.microsoftonline.com/TENANT_ID\"\n",
    ")\n",
    "result = app.acquire_token_interactive(scopes=['https://FUNCTION_APP_NAME.azurewebsites.net/user_impersonation'])\n",
    "bearer_token = result['access_token']"
   ]
  },
  {
   "cell_type": "markdown",
   "id": "5b369074",
   "metadata": {},
   "source": [
    "### Set Azure Function Orchestrator"
   ]
  },
  {
   "cell_type": "code",
   "execution_count": null,
   "id": "5f94943b",
   "metadata": {},
   "outputs": [],
   "source": [
    "endpoint = \"https://FUNCTION_APP_NAME.azurewebsites.net/api/orchestrators/Orchestrator\""
   ]
  },
  {
   "cell_type": "markdown",
   "id": "351d7add",
   "metadata": {},
   "source": [
    "### Prepare HTTP Body"
   ]
  },
  {
   "cell_type": "code",
   "execution_count": null,
   "id": "264d83ce",
   "metadata": {},
   "outputs": [],
   "source": [
    "data = {'Tactic': 'persistence', 'Procedure': 'updateAdAppPassword', 'parameters': {'appObjectId': 'ENTER-VALUE', 'pwdCredentialName': 'ENTER-VALUE', 'accessToken': 'ENTER-VALUE'}}"
   ]
  },
  {
   "cell_type": "markdown",
   "id": "f909ac27",
   "metadata": {},
   "source": [
    "### Send HTTP Request"
   ]
  },
  {
   "cell_type": "code",
   "execution_count": null,
   "id": "2ee2a39c",
   "metadata": {},
   "outputs": [],
   "source": [
    "http_headers = {'Authorization': 'Bearer ' + bearer_token, 'Accept': 'application/json','Content-Type': 'application/json'}\n",
    "results = requests.get(endpoint, json=data, headers=http_headers, stream=False).json()\n",
    "results"
   ]
  }
 ],
 "metadata": {},
 "nbformat": 4,
 "nbformat_minor": 5
}