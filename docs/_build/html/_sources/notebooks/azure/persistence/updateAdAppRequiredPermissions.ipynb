{
 "cells": [
  {
   "cell_type": "markdown",
   "id": "cab3d5ca",
   "metadata": {},
   "source": [
    "# updateAdAppRequiredPermissions"
   ]
  },
  {
   "cell_type": "markdown",
   "id": "331dc1f7",
   "metadata": {},
   "source": [
    "## Metadata"
   ]
  },
  {
   "cell_type": "markdown",
   "id": "cae23f1d",
   "metadata": {},
   "source": [
    "\n",
    "|                   |    |\n",
    "|:------------------|:---|\n",
    "| platform          | Azure |\n",
    "| contributors      | ['Roberto Rodriguez @Cyb3rWard0g', 'Open Threat Research @OTR_Community'] |\n",
    "| creation date     | 2021-08-05 |\n",
    "| modification date | 2021-08-05 |"
   ]
  },
  {
   "cell_type": "markdown",
   "id": "cefcecbb",
   "metadata": {},
   "source": [
    "## Description\n",
    "A threat actor might want to update required permissions (delegated or applications) of an Azure AD application. This does not grant permissions consent.\n"
   ]
  },
  {
   "cell_type": "markdown",
   "id": "3e770545",
   "metadata": {},
   "source": [
    "## Run Simulation"
   ]
  },
  {
   "cell_type": "markdown",
   "id": "b6d1f40a",
   "metadata": {},
   "source": [
    "### Authenticate Public Client"
   ]
  },
  {
   "cell_type": "code",
   "execution_count": null,
   "id": "fa6f33be",
   "metadata": {},
   "outputs": [],
   "source": [
    "from msal import PublicClientApplication\n",
    "import requests\n",
    "app = PublicClientApplication(\n",
    "    \"KATANA_CLIENT_APP_ID\",\n",
    "    authority=\"https://login.microsoftonline.com/TENANT_ID\"\n",
    ")\n",
    "result = app.acquire_token_interactive(scopes=['https://FUNCTION_APP_NAME.azurewebsites.net/user_impersonation'])\n",
    "bearer_token = result['access_token']"
   ]
  },
  {
   "cell_type": "markdown",
   "id": "24375184",
   "metadata": {},
   "source": [
    "### Set Azure Function Orchestrator"
   ]
  },
  {
   "cell_type": "code",
   "execution_count": null,
   "id": "5d214871",
   "metadata": {},
   "outputs": [],
   "source": [
    "endpoint = \"https://FUNCTION_APP_NAME.azurewebsites.net/api/orchestrators/Orchestrator\""
   ]
  },
  {
   "cell_type": "markdown",
   "id": "77cd6e6b",
   "metadata": {},
   "source": [
    "### Prepare HTTP Body"
   ]
  },
  {
   "cell_type": "code",
   "execution_count": null,
   "id": "91ce9260",
   "metadata": {},
   "outputs": [],
   "source": [
    "data = {'Tactic': 'persistence', 'Procedure': 'updateAdAppRequiredPermissions', 'parameters': {'displayName': 'ENTER-VALUE', 'resourceSpDisplayName': 'ENTER-VALUE', 'permissionType': 'ENTER-VALUE', 'permissions': ['ENTER-VALUE'], 'accessToken': 'ENTER-VALUE'}}"
   ]
  },
  {
   "cell_type": "markdown",
   "id": "b05b48e2",
   "metadata": {},
   "source": [
    "### Send HTTP Request"
   ]
  },
  {
   "cell_type": "code",
   "execution_count": null,
   "id": "4239eb84",
   "metadata": {},
   "outputs": [],
   "source": [
    "http_headers = {'Authorization': 'Bearer ' + bearer_token, 'Accept': 'application/json','Content-Type': 'application/json'}\n",
    "results = requests.get(endpoint, json=data, headers=http_headers, stream=False).json()\n",
    "results"
   ]
  }
 ],
 "metadata": {},
 "nbformat": 4,
 "nbformat_minor": 5
}
